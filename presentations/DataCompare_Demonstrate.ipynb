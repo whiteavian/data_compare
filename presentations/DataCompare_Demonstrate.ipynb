{
 "cells": [
  {
   "cell_type": "code",
   "execution_count": null,
   "metadata": {},
   "outputs": [],
   "source": [
    "from sqlalchemy import create_engine\n",
    "from data_compare.sql_database import SQLDatabase\n",
    "\n",
    "DB_CONFIG_DICT = {\n",
    "    'user': 'db_user',\n",
    "    'password': 'db_pass123',\n",
    "    'host': 'localhost',\n",
    "    'port': 5432,\n",
    "}\n",
    "\n",
    "DB_CONN_FORMAT = \"postgresql://{user}:{password}@{host}:{port}/{database}\"\n",
    "DBA_CONN = DB_CONN_FORMAT.format(database='db_a', **DB_CONFIG_DICT)\n",
    "DBB_CONN = DB_CONN_FORMAT.format(database='db_b', **DB_CONFIG_DICT)\n",
    "\n",
    "engine_a = create_engine(DB_CONN_FORMAT.format(database='db_a', **DB_CONFIG_DICT))\n",
    "\n",
    "engine_b = create_engine(DB_CONN_FORMAT.format(database='db_b', **DB_CONFIG_DICT))\n",
    "\n",
    "db_a = SQLDatabase(DBA_CONN)\n",
    "db_b = SQLDatabase(DBB_CONN)\n",
    "\n",
    "db_a.compare_schemas(db_b)"
   ]
  },
  {
   "cell_type": "code",
   "execution_count": null,
   "metadata": {},
   "outputs": [],
   "source": [
    "db_a.differences"
   ]
  },
  {
   "cell_type": "code",
   "execution_count": null,
   "metadata": {},
   "outputs": [],
   "source": [
    "db_a.differences['person']"
   ]
  },
  {
   "cell_type": "code",
   "execution_count": null,
   "metadata": {},
   "outputs": [],
   "source": [
    "[t for t in db_a.differences['person'] if db_a.differences['person'][t] == {}]"
   ]
  },
  {
   "cell_type": "code",
   "execution_count": null,
   "metadata": {},
   "outputs": [],
   "source": [
    "db_a.compare_data()"
   ]
  },
  {
   "cell_type": "code",
   "execution_count": null,
   "metadata": {},
   "outputs": [],
   "source": [
    "db_a.update_data_to_match_comparand()"
   ]
  },
  {
   "cell_type": "code",
   "execution_count": null,
   "metadata": {},
   "outputs": [],
   "source": []
  },
  {
   "cell_type": "code",
   "execution_count": null,
   "metadata": {},
   "outputs": [],
   "source": [
    "db_a.compare_data()"
   ]
  }
 ],
 "metadata": {
  "kernelspec": {
   "display_name": "Python 2",
   "language": "python",
   "name": "python2"
  },
  "language_info": {
   "codemirror_mode": {
    "name": "ipython",
    "version": 2
   },
   "file_extension": ".py",
   "mimetype": "text/x-python",
   "name": "python",
   "nbconvert_exporter": "python",
   "pygments_lexer": "ipython2",
   "version": "2.7.12"
  }
 },
 "nbformat": 4,
 "nbformat_minor": 2
}
